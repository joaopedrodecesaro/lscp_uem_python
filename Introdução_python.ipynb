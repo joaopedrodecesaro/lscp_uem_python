{
  "nbformat": 4,
  "nbformat_minor": 0,
  "metadata": {
    "colab": {
      "provenance": [],
      "authorship_tag": "ABX9TyOp/9xXSzyKzq0g+nXrVlDJ",
      "include_colab_link": true
    },
    "kernelspec": {
      "name": "python3",
      "display_name": "Python 3"
    },
    "language_info": {
      "name": "python"
    }
  },
  "cells": [
    {
      "cell_type": "markdown",
      "metadata": {
        "id": "view-in-github",
        "colab_type": "text"
      },
      "source": [
        "<a href=\"https://colab.research.google.com/github/joaopedrodecesaro/lscp_uem_python/blob/main/Introdu%C3%A7%C3%A3o_python.ipynb\" target=\"_parent\"><img src=\"https://colab.research.google.com/assets/colab-badge.svg\" alt=\"Open In Colab\"/></a>"
      ]
    },
    {
      "cell_type": "markdown",
      "source": [
        "**Tipos de variáveis em Python:**\\\n",
        "float (decimal)\\\n",
        "int (integer)\\\n",
        "str (string)\\\n",
        "bool (Boolean)\\\n",
        "\\\n",
        "**Tipos de sequências:**\\\n",
        "list (ordenado e mutável)\\\n",
        "tuple (ordenado e imutável)\\\n",
        "range (sequência de números)\\\n",
        "dict (dicionários, pares de chaves e valores)\\\n",
        "set (desordenado, elementos únicos)\\\n",
        "\\\n",
        "**Tipos de loops e controle de fluxo:**\\\n",
        "for\\\n",
        "list comprehension\\\n",
        "while\\\n",
        "if/elif/else\\\n",
        "\\\n",
        "**Funções:**\\\n",
        "def\\\n",
        "lambda\\\n",
        "\\\n",
        "**Classes:**\\\n",
        "Programação orientada a objetos\\\n",
        "Atributos e métodos\\\n",
        "\\\n",
        "**Bibliotecas:**\\\n",
        "Instalar com pip\\\n",
        "Numpy\n",
        "\n"
      ],
      "metadata": {
        "id": "DJ0Dr2sdl2Ai"
      }
    },
    {
      "cell_type": "code",
      "execution_count": 57,
      "metadata": {
        "colab": {
          "base_uri": "https://localhost:8080/"
        },
        "id": "YPgMVqtUluBZ",
        "outputId": "537e3f28-a44c-4712-870b-681f94572165"
      },
      "outputs": [
        {
          "output_type": "stream",
          "name": "stdout",
          "text": [
            "<class 'float'>\n",
            "<class 'int'>\n"
          ]
        }
      ],
      "source": [
        "a = 1\n",
        "b = 1.2\n",
        "c = a + b\n",
        "d = 2*a\n",
        "\n",
        "print(type(c))\n",
        "print(type(d))"
      ]
    },
    {
      "cell_type": "markdown",
      "source": [
        "Operações matemáticas"
      ],
      "metadata": {
        "id": "xrUqd_rqnf42"
      }
    },
    {
      "cell_type": "code",
      "source": [
        "# Soma e subtração\n",
        "c = a + b\n",
        "d = a - b\n",
        "\n",
        "print (c)\n",
        "print (d)"
      ],
      "metadata": {
        "colab": {
          "base_uri": "https://localhost:8080/"
        },
        "id": "JPG5P0B6nQa2",
        "outputId": "ca1a1455-4338-4c82-fa99-c7904fdd60db"
      },
      "execution_count": 58,
      "outputs": [
        {
          "output_type": "stream",
          "name": "stdout",
          "text": [
            "2.2\n",
            "-0.19999999999999996\n"
          ]
        }
      ]
    },
    {
      "cell_type": "code",
      "source": [
        "# Multiplicação e divisão\n",
        "c = a * b\n",
        "d = a / b\n",
        "\n",
        "print (c)\n",
        "print (d)"
      ],
      "metadata": {
        "colab": {
          "base_uri": "https://localhost:8080/"
        },
        "id": "A6qoH2Rfn9c7",
        "outputId": "e3f0e5ba-5a36-4c7f-e71a-5ad0b1e6f3ad"
      },
      "execution_count": 59,
      "outputs": [
        {
          "output_type": "stream",
          "name": "stdout",
          "text": [
            "1.2\n",
            "0.8333333333333334\n"
          ]
        }
      ]
    },
    {
      "cell_type": "code",
      "source": [
        "# Divisão com arredondamento\n",
        "e = b // a\n",
        "\n",
        "print (e)\n",
        "print (type(e))\n",
        "e = int(e)\n",
        "print (type(e))"
      ],
      "metadata": {
        "colab": {
          "base_uri": "https://localhost:8080/"
        },
        "id": "iY0wryM1n-U0",
        "outputId": "31f40b28-b0fb-427d-eb5c-9a85e38d1d75"
      },
      "execution_count": 60,
      "outputs": [
        {
          "output_type": "stream",
          "name": "stdout",
          "text": [
            "1.0\n",
            "<class 'float'>\n",
            "<class 'int'>\n"
          ]
        }
      ]
    },
    {
      "cell_type": "code",
      "source": [
        "# Resto\n",
        "f = 10 % 3\n",
        "\n",
        "print (f)\n",
        "type (f)"
      ],
      "metadata": {
        "colab": {
          "base_uri": "https://localhost:8080/"
        },
        "id": "ql-7s6wOogEp",
        "outputId": "ce64b047-6a76-4233-e4ce-e3f5416ead03"
      },
      "execution_count": 61,
      "outputs": [
        {
          "output_type": "stream",
          "name": "stdout",
          "text": [
            "1\n"
          ]
        },
        {
          "output_type": "execute_result",
          "data": {
            "text/plain": [
              "int"
            ]
          },
          "metadata": {},
          "execution_count": 61
        }
      ]
    },
    {
      "cell_type": "code",
      "source": [
        "# Exponenciais\n",
        "c = 2 ** 2\n",
        "d = 4 ** (1/2)\n",
        "\n",
        "print (c)\n",
        "print (d)"
      ],
      "metadata": {
        "colab": {
          "base_uri": "https://localhost:8080/"
        },
        "id": "CvLjZcIJomil",
        "outputId": "26a0c55f-cec2-4e44-e325-13f0a5607ef5"
      },
      "execution_count": 62,
      "outputs": [
        {
          "output_type": "stream",
          "name": "stdout",
          "text": [
            "4\n",
            "2.0\n"
          ]
        }
      ]
    },
    {
      "cell_type": "code",
      "source": [
        "# Valores booleanos:\n",
        "a = True\n",
        "b = False\n",
        "\n",
        "print (a)\n",
        "print (b)"
      ],
      "metadata": {
        "colab": {
          "base_uri": "https://localhost:8080/"
        },
        "id": "pfjo6HCXp2Xz",
        "outputId": "7f9f7856-e8a7-48cf-fc03-fe9bd505b4fc"
      },
      "execution_count": 63,
      "outputs": [
        {
          "output_type": "stream",
          "name": "stdout",
          "text": [
            "True\n",
            "False\n"
          ]
        }
      ]
    },
    {
      "cell_type": "code",
      "source": [
        "# Operações lógicas com booleanos\n",
        "c = a & b #and\n",
        "d = a | b #or\n",
        "\n",
        "print (c)\n",
        "print (d)"
      ],
      "metadata": {
        "colab": {
          "base_uri": "https://localhost:8080/"
        },
        "id": "PGMEjYFip9o7",
        "outputId": "587fc355-c7c1-412a-9504-52f2d7d4ceb5"
      },
      "execution_count": 64,
      "outputs": [
        {
          "output_type": "stream",
          "name": "stdout",
          "text": [
            "False\n",
            "True\n"
          ]
        }
      ]
    },
    {
      "cell_type": "code",
      "source": [
        "# Operações lógicas com números\n",
        "c = a > b\n",
        "d = a < b\n",
        "e = a == a\n",
        "f = a != a\n",
        "\n",
        "print (c)\n",
        "print (d)\n",
        "print (e)\n",
        "print (f)"
      ],
      "metadata": {
        "colab": {
          "base_uri": "https://localhost:8080/"
        },
        "id": "R7nsgg0Hsp5M",
        "outputId": "764b69f3-79e5-4dba-fdd2-7dc620a5b2e2"
      },
      "execution_count": 65,
      "outputs": [
        {
          "output_type": "stream",
          "name": "stdout",
          "text": [
            "True\n",
            "False\n",
            "True\n",
            "False\n"
          ]
        }
      ]
    },
    {
      "cell_type": "code",
      "source": [
        "#Strings\n",
        "string1 = 'HEX1'\n",
        "string2 = 'SPL1'\n",
        "\n",
        "print(type(string1))\n",
        "\n",
        "# Concatenação\n",
        "string3 = string1 + ' e ' + string2\n",
        "print(string3)\n",
        "\n",
        "# Repetição\n",
        "string4 = string1 * 3\n",
        "print(string4)"
      ],
      "metadata": {
        "colab": {
          "base_uri": "https://localhost:8080/"
        },
        "id": "QSXvhwVQqQn7",
        "outputId": "26a09d12-9ec1-4925-f95e-21d784bb0c29"
      },
      "execution_count": 66,
      "outputs": [
        {
          "output_type": "stream",
          "name": "stdout",
          "text": [
            "<class 'str'>\n",
            "HEX1 e SPL1\n",
            "HEX1HEX1HEX1\n"
          ]
        }
      ]
    },
    {
      "cell_type": "code",
      "source": [
        "# Funções para string\n",
        "condition1 = string1.startswith('HEX')\n",
        "condition2 = string2.startswith('HEX')\n",
        "\n",
        "print(condition1)\n",
        "print(condition2)"
      ],
      "metadata": {
        "colab": {
          "base_uri": "https://localhost:8080/"
        },
        "id": "PzhVAwUhq1S3",
        "outputId": "29dcfc84-57a5-469f-9510-5bf995e5d504"
      },
      "execution_count": 67,
      "outputs": [
        {
          "output_type": "stream",
          "name": "stdout",
          "text": [
            "True\n",
            "False\n"
          ]
        }
      ]
    },
    {
      "cell_type": "code",
      "source": [
        "condition1 = string1.endswith('1')\n",
        "condition2 = string2.endswith('1')\n",
        "\n",
        "print(condition1)\n",
        "print(condition2)"
      ],
      "metadata": {
        "colab": {
          "base_uri": "https://localhost:8080/"
        },
        "id": "y_XdZiXLrHzz",
        "outputId": "af547bfb-364e-4ca4-d1a0-781983eeee2b"
      },
      "execution_count": 68,
      "outputs": [
        {
          "output_type": "stream",
          "name": "stdout",
          "text": [
            "True\n",
            "True\n"
          ]
        }
      ]
    },
    {
      "cell_type": "code",
      "source": [
        "print('HEX' in string1)\n",
        "print('HEX' in string2)"
      ],
      "metadata": {
        "colab": {
          "base_uri": "https://localhost:8080/"
        },
        "id": "wjL5ewa8rPRJ",
        "outputId": "984c319e-228f-4eab-e4fc-e05245e5b213"
      },
      "execution_count": 69,
      "outputs": [
        {
          "output_type": "stream",
          "name": "stdout",
          "text": [
            "True\n",
            "False\n"
          ]
        }
      ]
    },
    {
      "cell_type": "code",
      "source": [
        "# Mudança de capitalização (útil para grandes datasets)\n",
        "print (string1.lower())\n",
        "print (string1.upper())\n",
        "print (string1.capitalize())"
      ],
      "metadata": {
        "colab": {
          "base_uri": "https://localhost:8080/"
        },
        "id": "TOHmkn7hrZ7f",
        "outputId": "9226a14b-a235-4808-8149-6c20e16c0859"
      },
      "execution_count": 70,
      "outputs": [
        {
          "output_type": "stream",
          "name": "stdout",
          "text": [
            "hex1\n",
            "HEX1\n",
            "Hex1\n"
          ]
        }
      ]
    },
    {
      "cell_type": "code",
      "source": [
        "# Length & Slicing -> também serve para listas\n",
        "s = \"Python\"\n",
        "print(len(s))\n",
        "print(s[0])\n",
        "print(s[-1])\n",
        "print(s[1:4])"
      ],
      "metadata": {
        "colab": {
          "base_uri": "https://localhost:8080/"
        },
        "id": "bgMzvuPrs-oT",
        "outputId": "0d3e2293-57b1-4b4f-9466-10c63539ca9d"
      },
      "execution_count": 71,
      "outputs": [
        {
          "output_type": "stream",
          "name": "stdout",
          "text": [
            "6\n",
            "P\n",
            "n\n",
            "yth\n"
          ]
        }
      ]
    },
    {
      "cell_type": "markdown",
      "source": [
        "Listas"
      ],
      "metadata": {
        "id": "0Mtq0W2tpISk"
      }
    },
    {
      "cell_type": "code",
      "source": [
        "# Definindo listas\n",
        "mylist = [1, 1.2, 1.4 , 1.6]\n",
        "print (mylist)\n",
        "type(mylist)"
      ],
      "metadata": {
        "colab": {
          "base_uri": "https://localhost:8080/"
        },
        "id": "9M-xhwvfo6v7",
        "outputId": "35275e52-447a-4469-d8e0-26d5c2393b96"
      },
      "execution_count": 72,
      "outputs": [
        {
          "output_type": "stream",
          "name": "stdout",
          "text": [
            "[1, 1.2, 1.4, 1.6]\n"
          ]
        },
        {
          "output_type": "execute_result",
          "data": {
            "text/plain": [
              "list"
            ]
          },
          "metadata": {},
          "execution_count": 72
        }
      ]
    },
    {
      "cell_type": "code",
      "source": [
        "# Length & Slicing\n",
        "print(mylist[-1])\n",
        "print(mylist[2])\n",
        "print(mylist[:2])"
      ],
      "metadata": {
        "colab": {
          "base_uri": "https://localhost:8080/"
        },
        "id": "tEMBSimKpFwm",
        "outputId": "3902ac5f-ce3f-4a8f-f7e5-eb3e1a62239a"
      },
      "execution_count": 74,
      "outputs": [
        {
          "output_type": "stream",
          "name": "stdout",
          "text": [
            "1.6\n",
            "1.4\n",
            "[1, 1.2]\n"
          ]
        }
      ]
    },
    {
      "cell_type": "code",
      "source": [
        "# Lista de listas\n",
        "mylist = [[1, 2, 3], [4, 5, 6], [7, 8, 9]]\n",
        "print(mylist)\n",
        "print(mylist[0])\n",
        "print(mylist[0][1])\n",
        "print(mylist[1][:2])"
      ],
      "metadata": {
        "colab": {
          "base_uri": "https://localhost:8080/"
        },
        "id": "QByJhQBTtc1A",
        "outputId": "bb706daf-cf36-4b0d-e0cb-eeed6b9d8c54"
      },
      "execution_count": null,
      "outputs": [
        {
          "output_type": "stream",
          "name": "stdout",
          "text": [
            "[[1, 2, 3], [4, 5, 6], [7, 8, 9]]\n",
            "[1, 2, 3]\n",
            "2\n",
            "[4, 5]\n"
          ]
        }
      ]
    },
    {
      "cell_type": "code",
      "source": [
        "# Modificação de listas\n",
        "my_list = [1, 3, 2]\n",
        "print(\"Initial:\", my_list)\n",
        "\n",
        "my_list.append(4) # Adiciona o valor à lista\n",
        "print(\"After append(4):\", my_list)\n",
        "\n",
        "my_list.extend([5, 6]) # Extende a lista com valores de outra lista\n",
        "print(\"After extend([5, 6]):\", my_list)\n",
        "\n",
        "my_list.insert(0, 0) # Seleciona o valor a ser colocar e posição\n",
        "print(\"After insert(0, 0):\", my_list)\n",
        "\n",
        "my_list.remove(3) # Remove primeira ocorrência do valor 3\n",
        "print(\"After remove(3):\", my_list)\n",
        "\n",
        "removed = my_list.pop(3) # Remove o valor selecionado da lista e retorna esse valor\n",
        "print(\"After pop():\", my_list, \"| Popped value:\", removed)\n",
        "\n",
        "my_list.reverse() # Inverte a ordem da lista\n",
        "print(\"After reverse():\", my_list)\n",
        "\n",
        "my_list.sort() # Coloca a lista em ordem crescente/alfabética\n",
        "print(\"After sort():\", my_list)\n",
        "\n",
        "my_list.clear() # Limpa a lista de todos seus valores\n",
        "print(\"After clear():\", my_list)"
      ],
      "metadata": {
        "colab": {
          "base_uri": "https://localhost:8080/"
        },
        "id": "3uiiaEzvuxId",
        "outputId": "f067919a-9bb4-4891-f5d8-68e515d203c4"
      },
      "execution_count": 76,
      "outputs": [
        {
          "output_type": "stream",
          "name": "stdout",
          "text": [
            "Initial: [1, 3, 2]\n",
            "After append(4): [1, 3, 2, 4]\n",
            "After extend([5, 6]): [1, 3, 2, 4, 5, 6]\n",
            "After insert(0, 0): [0, 1, 3, 2, 4, 5, 6]\n",
            "After remove(3): [0, 1, 2, 4, 5, 6]\n",
            "After pop(): [0, 1, 2, 5, 6] | Popped value: 4\n",
            "After reverse(): [6, 5, 2, 1, 0]\n",
            "After sort(): [0, 1, 2, 5, 6]\n",
            "After clear(): []\n"
          ]
        }
      ]
    },
    {
      "cell_type": "code",
      "source": [
        "# Append só coloca o elemento na última posição\n",
        "my_list = [1,2,3]\n",
        "my_list.append([5,6])\n",
        "print(my_list)\n",
        "my_list[3]"
      ],
      "metadata": {
        "colab": {
          "base_uri": "https://localhost:8080/"
        },
        "id": "E2XFTiRWvf39",
        "outputId": "da50d05a-b64c-48b9-a7e7-41d8a7e60422"
      },
      "execution_count": 75,
      "outputs": [
        {
          "output_type": "stream",
          "name": "stdout",
          "text": [
            "[1, 2, 3, [5, 6]]\n"
          ]
        },
        {
          "output_type": "execute_result",
          "data": {
            "text/plain": [
              "[5, 6]"
            ]
          },
          "metadata": {},
          "execution_count": 75
        }
      ]
    },
    {
      "cell_type": "markdown",
      "source": [
        "Range\n",
        "- útil para criar loops for"
      ],
      "metadata": {
        "id": "xb1HNWm_qG35"
      }
    },
    {
      "cell_type": "code",
      "source": [
        "# Range\n",
        "a = range(0,5,1)\n",
        "b= range(1,3)\n",
        "\n",
        "print(a)\n",
        "print(type(a))\n",
        "\n",
        "print(b)\n",
        "print(type(b))\n",
        "\n",
        "for i in a:\n",
        "    print(i)"
      ],
      "metadata": {
        "colab": {
          "base_uri": "https://localhost:8080/"
        },
        "id": "Xn5EXKAPvsdm",
        "outputId": "4e2f2277-d3f3-4930-93b4-82b4ae4ca18d"
      },
      "execution_count": 79,
      "outputs": [
        {
          "output_type": "stream",
          "name": "stdout",
          "text": [
            "range(0, 5)\n",
            "<class 'range'>\n",
            "range(1, 3)\n",
            "<class 'range'>\n",
            "0\n",
            "1\n",
            "2\n",
            "3\n",
            "4\n"
          ]
        }
      ]
    },
    {
      "cell_type": "markdown",
      "source": [
        "Tuples\\\n",
        "\\\n",
        "Diferentemente de listas, tuples são:\n",
        "- Imutáveis;\n",
        "- Um pouco mais computacionalmente eficientes;\n",
        "- Tem menos métodos;\n",
        "- São muito usados em retornos de funções;\n",
        "- Podem ser utilizados como chaves em dicionários."
      ],
      "metadata": {
        "id": "CBeWc2veq5dd"
      }
    },
    {
      "cell_type": "code",
      "source": [
        "my_tuple = (10, 20, 30)\n",
        "print(my_tuple)\n",
        "print(my_tuple[1])"
      ],
      "metadata": {
        "colab": {
          "base_uri": "https://localhost:8080/"
        },
        "id": "g-gABSchq5KL",
        "outputId": "36b2d6e7-e1ba-4e54-92dd-f56a1f55521b"
      },
      "execution_count": 80,
      "outputs": [
        {
          "output_type": "stream",
          "name": "stdout",
          "text": [
            "(10, 20, 30)\n",
            "20\n"
          ]
        }
      ]
    },
    {
      "cell_type": "code",
      "source": [
        "my_list = [1, 2, 3]\n",
        "my_list[0] = 100\n",
        "print(my_list)  # [100, 2, 3]\n",
        "\n",
        "my_tuple = (1, 2, 3)\n",
        "my_tuple[0] = 100  # ❌ Error: 'tuple' object does not support item assignment"
      ],
      "metadata": {
        "colab": {
          "base_uri": "https://localhost:8080/",
          "height": 193
        },
        "id": "Rqd9uvRGqTnz",
        "outputId": "923e22be-2bb8-480b-93b9-0f331dd7ddb0"
      },
      "execution_count": 81,
      "outputs": [
        {
          "output_type": "stream",
          "name": "stdout",
          "text": [
            "[100, 2, 3]\n"
          ]
        },
        {
          "output_type": "error",
          "ename": "TypeError",
          "evalue": "'tuple' object does not support item assignment",
          "traceback": [
            "\u001b[0;31m---------------------------------------------------------------------------\u001b[0m",
            "\u001b[0;31mTypeError\u001b[0m                                 Traceback (most recent call last)",
            "\u001b[0;32m/tmp/ipython-input-3300685728.py\u001b[0m in \u001b[0;36m<cell line: 0>\u001b[0;34m()\u001b[0m\n\u001b[1;32m      4\u001b[0m \u001b[0;34m\u001b[0m\u001b[0m\n\u001b[1;32m      5\u001b[0m \u001b[0mmy_tuple\u001b[0m \u001b[0;34m=\u001b[0m \u001b[0;34m(\u001b[0m\u001b[0;36m1\u001b[0m\u001b[0;34m,\u001b[0m \u001b[0;36m2\u001b[0m\u001b[0;34m,\u001b[0m \u001b[0;36m3\u001b[0m\u001b[0;34m)\u001b[0m\u001b[0;34m\u001b[0m\u001b[0;34m\u001b[0m\u001b[0m\n\u001b[0;32m----> 6\u001b[0;31m \u001b[0mmy_tuple\u001b[0m\u001b[0;34m[\u001b[0m\u001b[0;36m0\u001b[0m\u001b[0;34m]\u001b[0m \u001b[0;34m=\u001b[0m \u001b[0;36m100\u001b[0m  \u001b[0;31m# ❌ Error: 'tuple' object does not support item assignment\u001b[0m\u001b[0;34m\u001b[0m\u001b[0;34m\u001b[0m\u001b[0m\n\u001b[0m",
            "\u001b[0;31mTypeError\u001b[0m: 'tuple' object does not support item assignment"
          ]
        }
      ]
    },
    {
      "cell_type": "code",
      "source": [
        "# Alguns métodos de tuple:\n",
        "my_tuple = (1, 2, 2, 3, 2)\n",
        "print(my_tuple.count(2)) # Número de vezes que 2 aparece no tuple\n",
        "\n",
        "my_tuple = (10, 20, 30, 20)\n",
        "print(my_tuple.index(20)) # Primeira ocorrência do número 20"
      ],
      "metadata": {
        "colab": {
          "base_uri": "https://localhost:8080/"
        },
        "id": "_cFIj10hrkuk",
        "outputId": "ad125041-d6f1-4f75-c3d0-20f78c636d03"
      },
      "execution_count": 82,
      "outputs": [
        {
          "output_type": "stream",
          "name": "stdout",
          "text": [
            "3\n",
            "1\n"
          ]
        }
      ]
    },
    {
      "cell_type": "markdown",
      "source": [
        "Dicionários:\n",
        "- Recebe uma chave e seus respectivos valores;\n",
        "- Chaves são únicas!"
      ],
      "metadata": {
        "id": "6WyAKyfItZUx"
      }
    },
    {
      "cell_type": "code",
      "source": [
        "person = {\n",
        "    \"name\": \"Alice\",\n",
        "    \"age\": 30,\n",
        "    \"city\": \"Maringá\"\n",
        "}\n",
        "\n",
        "print(person[\"name\"])"
      ],
      "metadata": {
        "colab": {
          "base_uri": "https://localhost:8080/"
        },
        "id": "NOiYPkGBsMNA",
        "outputId": "fa81837f-42b1-4548-f81c-37e094d57b4c"
      },
      "execution_count": 84,
      "outputs": [
        {
          "output_type": "stream",
          "name": "stdout",
          "text": [
            "Alice\n"
          ]
        }
      ]
    },
    {
      "cell_type": "code",
      "source": [
        "# Modificar e adicionar valores\n",
        "person[\"age\"] = 31           # Modificar\n",
        "person[\"profession\"] = \"Engineer\"  # Adicionar\n",
        "person.update({\"city\": \"Curitiba\", \"country\":\"Brazil\"})  # Modificar e Adicionar\n",
        "\n",
        "print(person)"
      ],
      "metadata": {
        "colab": {
          "base_uri": "https://localhost:8080/"
        },
        "id": "EnnJCCGvuUq8",
        "outputId": "e8ce2d9b-33bb-4474-c4dd-ba2c95142e88"
      },
      "execution_count": 85,
      "outputs": [
        {
          "output_type": "stream",
          "name": "stdout",
          "text": [
            "{'name': 'Alice', 'age': 31, 'city': 'Curitiba', 'profession': 'Engineer', 'country': 'Brazil'}\n"
          ]
        }
      ]
    },
    {
      "cell_type": "code",
      "source": [
        "# Alguns métodos\n",
        "print(person.keys())\n",
        "print(person.values())\n",
        "print(person.items())"
      ],
      "metadata": {
        "colab": {
          "base_uri": "https://localhost:8080/"
        },
        "id": "m6L5htCIur3d",
        "outputId": "965c4c03-1754-468d-8159-a0f1aa484ebd"
      },
      "execution_count": 86,
      "outputs": [
        {
          "output_type": "stream",
          "name": "stdout",
          "text": [
            "dict_keys(['name', 'age', 'city', 'profession', 'country'])\n",
            "dict_values(['Alice', 31, 'Curitiba', 'Engineer', 'Brazil'])\n",
            "dict_items([('name', 'Alice'), ('age', 31), ('city', 'Curitiba'), ('profession', 'Engineer'), ('country', 'Brazil')])\n"
          ]
        }
      ]
    },
    {
      "cell_type": "code",
      "source": [
        "# Criar dicionário vazio apenas com chaves:\n",
        "keys = [\"a\", \"b\", \"c\"]\n",
        "new_dict = dict.fromkeys(keys, 0)\n",
        "print(new_dict)"
      ],
      "metadata": {
        "colab": {
          "base_uri": "https://localhost:8080/"
        },
        "id": "lJTdFLL5vr3d",
        "outputId": "3df0c68f-9d4b-46e1-8392-84d52afd05aa"
      },
      "execution_count": 87,
      "outputs": [
        {
          "output_type": "stream",
          "name": "stdout",
          "text": [
            "{'a': 0, 'b': 0, 'c': 0}\n"
          ]
        }
      ]
    },
    {
      "cell_type": "code",
      "source": [
        "# Deletar um valor\n",
        "d = {\"x\": 1, \"y\": 2}\n",
        "del d[\"x\"]\n",
        "print(d)"
      ],
      "metadata": {
        "colab": {
          "base_uri": "https://localhost:8080/"
        },
        "id": "GXLl2OvYwOgN",
        "outputId": "1b2834f9-08c6-4920-b65b-910d08726faf"
      },
      "execution_count": 88,
      "outputs": [
        {
          "output_type": "stream",
          "name": "stdout",
          "text": [
            "{'y': 2}\n"
          ]
        }
      ]
    },
    {
      "cell_type": "code",
      "source": [
        "# Utilizar \"in\" com dicionários:\n",
        "\n",
        "print(\"key1\" in {\"key1\": 123},'\\n',\n",
        "      \"key2\" in {\"key1\": 123})"
      ],
      "metadata": {
        "colab": {
          "base_uri": "https://localhost:8080/"
        },
        "id": "_j_b1GWZwVAU",
        "outputId": "938be056-be6f-43ca-cb76-e5a6be0fbfb3"
      },
      "execution_count": null,
      "outputs": [
        {
          "output_type": "stream",
          "name": "stdout",
          "text": [
            "True \n",
            " False\n"
          ]
        }
      ]
    },
    {
      "cell_type": "markdown",
      "source": [
        "Sets:\n",
        "- Elementos únicos"
      ],
      "metadata": {
        "id": "7K2VVympx7MP"
      }
    },
    {
      "cell_type": "code",
      "source": [
        "my_set = {2, 3, 3, 3, 1}\n",
        "print(my_set)\n",
        "\n",
        "my_set.add(4)\n",
        "print(my_set)\n",
        "\n",
        "my_set.remove(3)\n",
        "print(my_set)\n",
        "\n",
        "my_set.update([1, 5, 6])\n",
        "print(my_set)"
      ],
      "metadata": {
        "colab": {
          "base_uri": "https://localhost:8080/"
        },
        "id": "V0fY3ZBNx6oS",
        "outputId": "b117f248-8182-4c72-e6b3-f47a05f038d0"
      },
      "execution_count": null,
      "outputs": [
        {
          "output_type": "stream",
          "name": "stdout",
          "text": [
            "{1, 2, 3}\n",
            "{1, 2, 3, 4}\n",
            "{1, 2, 4}\n",
            "{1, 2, 4, 5, 6}\n"
          ]
        }
      ]
    },
    {
      "cell_type": "code",
      "source": [
        "# Operações matemáticas\n",
        "A = {1, 2, 3, 4}\n",
        "B = {3, 4, 5, 6}\n",
        "\n",
        "print(A.union(B)) # União\n",
        "print(A.intersection(B)) # Interseção\n",
        "print(A.difference(B))\n",
        "print(B.difference(A))\n",
        "\n",
        "print(1 in A)\n",
        "print(5 not in A)"
      ],
      "metadata": {
        "colab": {
          "base_uri": "https://localhost:8080/"
        },
        "id": "2--FHbcXwqFI",
        "outputId": "13d73815-e1aa-4cd6-a003-e2fd192140c8"
      },
      "execution_count": 89,
      "outputs": [
        {
          "output_type": "stream",
          "name": "stdout",
          "text": [
            "{1, 2, 3, 4, 5, 6}\n",
            "{3, 4}\n",
            "{1, 2}\n",
            "{5, 6}\n",
            "True\n",
            "True\n"
          ]
        }
      ]
    },
    {
      "cell_type": "code",
      "source": [
        "a = {1, 2}\n",
        "b = {1, 2, 3}\n",
        "print(a.issubset(b))\n",
        "print(b.issuperset(a))"
      ],
      "metadata": {
        "colab": {
          "base_uri": "https://localhost:8080/"
        },
        "id": "fjB7OJjdyrjq",
        "outputId": "277807f4-2a0b-486d-c961-c04f038a87f1"
      },
      "execution_count": null,
      "outputs": [
        {
          "output_type": "stream",
          "name": "stdout",
          "text": [
            "True\n",
            "True\n"
          ]
        }
      ]
    },
    {
      "cell_type": "markdown",
      "source": [
        "For loops"
      ],
      "metadata": {
        "id": "YQ8H2xpKzgra"
      }
    },
    {
      "cell_type": "code",
      "source": [
        "# List e for:\n",
        "fruits = [\"apple\", \"banana\", \"cherry\"]\n",
        "for fruit in fruits:\n",
        "    print(fruit)"
      ],
      "metadata": {
        "colab": {
          "base_uri": "https://localhost:8080/"
        },
        "id": "gAGBVQtRzgJ_",
        "outputId": "a3875f62-2bac-45e5-cf72-a1ac26e6b349"
      },
      "execution_count": null,
      "outputs": [
        {
          "output_type": "stream",
          "name": "stdout",
          "text": [
            "apple\n",
            "banana\n",
            "cherry\n"
          ]
        }
      ]
    },
    {
      "cell_type": "code",
      "source": [
        "# Tuples e for:\n",
        "coordinates = (10, 20, 30)\n",
        "for value in coordinates:\n",
        "    print(value)"
      ],
      "metadata": {
        "colab": {
          "base_uri": "https://localhost:8080/"
        },
        "id": "D6DWZmojzlFo",
        "outputId": "cdcd8140-4f83-442f-a416-fbe1edafa6b2"
      },
      "execution_count": null,
      "outputs": [
        {
          "output_type": "stream",
          "name": "stdout",
          "text": [
            "10\n",
            "20\n",
            "30\n"
          ]
        }
      ]
    },
    {
      "cell_type": "code",
      "source": [
        "#Separação de tuples:\n",
        "points = [(1, 2), (3, 4), (5, 6)]\n",
        "for x, y in points:\n",
        "    print(f\"x: {x}, y: {y}\")\n",
        "\n",
        "for mytuple in points:\n",
        "  print(f\"x: {mytuple[0]}, y: {mytuple[1]}\")"
      ],
      "metadata": {
        "colab": {
          "base_uri": "https://localhost:8080/"
        },
        "id": "EFRepvbJzr9W",
        "outputId": "1c35985e-1c49-4670-8838-941c7d6d45e0"
      },
      "execution_count": 93,
      "outputs": [
        {
          "output_type": "stream",
          "name": "stdout",
          "text": [
            "x: 1, y: 2\n",
            "x: 3, y: 4\n",
            "x: 5, y: 6\n",
            "x: 1, y: 2\n",
            "x: 3, y: 4\n",
            "x: 5, y: 6\n"
          ]
        }
      ]
    },
    {
      "cell_type": "code",
      "source": [
        "# Strings e for:\n",
        "word = \"hello\"\n",
        "for char in word:\n",
        "    print(char)"
      ],
      "metadata": {
        "colab": {
          "base_uri": "https://localhost:8080/"
        },
        "id": "XrphrLlqzuaZ",
        "outputId": "90779f0c-3738-4ee5-9b3c-ba083ddf6827"
      },
      "execution_count": null,
      "outputs": [
        {
          "output_type": "stream",
          "name": "stdout",
          "text": [
            "h\n",
            "e\n",
            "l\n",
            "l\n",
            "o\n"
          ]
        }
      ]
    },
    {
      "cell_type": "code",
      "source": [
        "# Ranges e for:\n",
        "for i in range(1, 6, 1):\n",
        "    print(i)"
      ],
      "metadata": {
        "colab": {
          "base_uri": "https://localhost:8080/"
        },
        "id": "gvTdRdwLz2Mn",
        "outputId": "15157253-44e1-4d1a-bfb9-11725a8883ee"
      },
      "execution_count": 95,
      "outputs": [
        {
          "output_type": "stream",
          "name": "stdout",
          "text": [
            "1\n",
            "2\n",
            "3\n",
            "4\n",
            "5\n"
          ]
        }
      ]
    },
    {
      "cell_type": "code",
      "source": [
        "# Sets e for:\n",
        "colors = {\"red\", \"green\", \"blue\"}\n",
        "for color in colors:\n",
        "    print(color)"
      ],
      "metadata": {
        "colab": {
          "base_uri": "https://localhost:8080/"
        },
        "id": "I55lzhfGz86v",
        "outputId": "48d2b71f-cf00-4a5e-dc00-443da69c18c2"
      },
      "execution_count": null,
      "outputs": [
        {
          "output_type": "stream",
          "name": "stdout",
          "text": [
            "blue\n",
            "red\n",
            "green\n"
          ]
        }
      ]
    },
    {
      "cell_type": "code",
      "source": [
        "# Dicionários e for\n",
        "d = {\"a\": 1, \"b\": 2}\n",
        "for key in d:\n",
        "    print(key)"
      ],
      "metadata": {
        "colab": {
          "base_uri": "https://localhost:8080/"
        },
        "id": "jQxVd9nH0CcC",
        "outputId": "0afb6cce-c970-434e-c360-a9a49a056aa8"
      },
      "execution_count": 97,
      "outputs": [
        {
          "output_type": "stream",
          "name": "stdout",
          "text": [
            "a\n",
            "b\n"
          ]
        }
      ]
    },
    {
      "cell_type": "code",
      "source": [
        "for value in d.values():\n",
        "    print(value)"
      ],
      "metadata": {
        "colab": {
          "base_uri": "https://localhost:8080/"
        },
        "id": "lHdChIZa0EPs",
        "outputId": "d94dbb82-61b9-4ab6-8cd7-bff9adf0b164"
      },
      "execution_count": 98,
      "outputs": [
        {
          "output_type": "stream",
          "name": "stdout",
          "text": [
            "1\n",
            "2\n"
          ]
        }
      ]
    },
    {
      "cell_type": "code",
      "source": [
        "print(d.items())\n",
        "for key, value in d.items():\n",
        "    print(f\"{key} → {value}\")"
      ],
      "metadata": {
        "colab": {
          "base_uri": "https://localhost:8080/"
        },
        "id": "L3PplhDE0HVT",
        "outputId": "bd1a282b-516b-4120-c1b5-aa8f2060f5f2"
      },
      "execution_count": 99,
      "outputs": [
        {
          "output_type": "stream",
          "name": "stdout",
          "text": [
            "dict_items([('a', 1), ('b', 2)])\n",
            "a → 1\n",
            "b → 2\n"
          ]
        }
      ]
    },
    {
      "cell_type": "code",
      "source": [
        "# List comprehension\n",
        "squares = [x**2 for x in range(5)]\n",
        "print(squares)\n",
        "\n",
        "even_squares = [x**2 for x in range(10) if x % 2 == 0]\n",
        "print(even_squares)\n",
        "\n",
        "pairs = [(x, y) for x in [1, 2] for y in [3, 4]]\n",
        "print(pairs)"
      ],
      "metadata": {
        "colab": {
          "base_uri": "https://localhost:8080/"
        },
        "id": "qJnSNY0k0Icl",
        "outputId": "393484c2-a35e-4919-9ada-9a41a215aca9"
      },
      "execution_count": null,
      "outputs": [
        {
          "output_type": "stream",
          "name": "stdout",
          "text": [
            "[0, 1, 4, 9, 16]\n",
            "[0, 4, 16, 36, 64]\n",
            "[(1, 3), (1, 4), (2, 3), (2, 4)]\n"
          ]
        }
      ]
    },
    {
      "cell_type": "code",
      "source": [
        "# Sem list comprehension\n",
        "squares = []\n",
        "for x in range(5):\n",
        "    squares.append(x**2)\n",
        "print(squares)\n",
        "\n",
        "even_squares = []\n",
        "for x in range(10):\n",
        "    if x % 2 == 0:\n",
        "        even_squares.append(x**2)\n",
        "print(even_squares)\n",
        "\n",
        "pairs = []\n",
        "for x in [1, 2]:\n",
        "    for y in [3, 4]:\n",
        "        pairs.append((x, y))\n",
        "print(pairs)"
      ],
      "metadata": {
        "colab": {
          "base_uri": "https://localhost:8080/"
        },
        "id": "6LRky7lL0pjC",
        "outputId": "718b501a-2ce4-4a53-efd7-ad917e62a422"
      },
      "execution_count": null,
      "outputs": [
        {
          "output_type": "stream",
          "name": "stdout",
          "text": [
            "[0, 1, 4, 9, 16]\n",
            "[0, 4, 16, 36, 64]\n",
            "[(1, 3), (1, 4), (2, 3), (2, 4)]\n"
          ]
        }
      ]
    },
    {
      "cell_type": "markdown",
      "source": [
        "While\n",
        "- útil para regras de paradas (como redução de erros);\n",
        "- Cuidado: é possível que a regra de parada nunca seja satisfeita"
      ],
      "metadata": {
        "id": "VS-zs2Sr3Dha"
      }
    },
    {
      "cell_type": "code",
      "source": [
        "squares = []\n",
        "x = 0\n",
        "while x < 5:\n",
        "    squares.append(x**2)\n",
        "    x += 1\n",
        "print(squares)"
      ],
      "metadata": {
        "colab": {
          "base_uri": "https://localhost:8080/"
        },
        "id": "Xmhj3UiC1dGK",
        "outputId": "2312f9bc-405e-4bb9-bdec-35b6be9b91a6"
      },
      "execution_count": null,
      "outputs": [
        {
          "output_type": "stream",
          "name": "stdout",
          "text": [
            "[0, 1, 4, 9, 16]\n"
          ]
        }
      ]
    },
    {
      "cell_type": "markdown",
      "source": [
        "if, elif e else"
      ],
      "metadata": {
        "id": "eG8zZH3R3g3O"
      }
    },
    {
      "cell_type": "code",
      "source": [
        "age = 12\n",
        "\n",
        "if age < 13:\n",
        "    print(\"Child\")\n",
        "elif age < 20:\n",
        "    print(\"Teenager\")\n",
        "else:\n",
        "    print(\"Adult\")"
      ],
      "metadata": {
        "colab": {
          "base_uri": "https://localhost:8080/"
        },
        "id": "4En-D4Ey3FTB",
        "outputId": "7589e0ab-7cb5-4668-ecb3-be16762d57f5"
      },
      "execution_count": 101,
      "outputs": [
        {
          "output_type": "stream",
          "name": "stdout",
          "text": [
            "Child\n"
          ]
        }
      ]
    },
    {
      "cell_type": "code",
      "source": [
        "num = 15\n",
        "\n",
        "if num % 3 == 0:\n",
        "    print(\"Divisible by 3\")\n",
        "\n",
        "if num % 5 == 0:\n",
        "    print(\"Divisible by 5\")"
      ],
      "metadata": {
        "colab": {
          "base_uri": "https://localhost:8080/"
        },
        "id": "Q3BdpA5T3irF",
        "outputId": "e069dc6a-67ca-4f49-8c78-9ba618355fd4"
      },
      "execution_count": 103,
      "outputs": [
        {
          "output_type": "stream",
          "name": "stdout",
          "text": [
            "Divisible by 3\n",
            "Divisible by 5\n"
          ]
        }
      ]
    },
    {
      "cell_type": "markdown",
      "source": [
        "if e operadores lógicos:"
      ],
      "metadata": {
        "id": "vxv32yLp3t2Y"
      }
    },
    {
      "cell_type": "code",
      "source": [
        "age = 25\n",
        "has_ticket = True\n",
        "\n",
        "if age >= 18 and has_ticket:\n",
        "    print(\"Welcome to the concert!\")"
      ],
      "metadata": {
        "colab": {
          "base_uri": "https://localhost:8080/"
        },
        "id": "pMaJEQ4G3p3o",
        "outputId": "b2c53cd3-0a19-44ec-c613-d87034dca48b"
      },
      "execution_count": 104,
      "outputs": [
        {
          "output_type": "stream",
          "name": "stdout",
          "text": [
            "Welcome to the concert!\n"
          ]
        }
      ]
    },
    {
      "cell_type": "code",
      "source": [
        "is_admin = False\n",
        "is_moderator = True\n",
        "\n",
        "if is_admin or is_moderator:\n",
        "    print(\"You can manage posts.\")"
      ],
      "metadata": {
        "colab": {
          "base_uri": "https://localhost:8080/"
        },
        "id": "MaW8c84m33Tj",
        "outputId": "8d4abed4-9a96-4bb8-97f6-1b1eaf7917ec"
      },
      "execution_count": 108,
      "outputs": [
        {
          "output_type": "stream",
          "name": "stdout",
          "text": [
            "You can manage posts.\n"
          ]
        }
      ]
    },
    {
      "cell_type": "code",
      "source": [
        "logged_in = False\n",
        "\n",
        "if not logged_in:\n",
        "    print(\"Please log in first.\")"
      ],
      "metadata": {
        "colab": {
          "base_uri": "https://localhost:8080/"
        },
        "id": "1oyewIWA35iN",
        "outputId": "739b3c8f-059d-446d-bda8-5a5ddd7787d6"
      },
      "execution_count": 106,
      "outputs": [
        {
          "output_type": "stream",
          "name": "stdout",
          "text": [
            "Please log in first.\n"
          ]
        }
      ]
    },
    {
      "cell_type": "markdown",
      "source": [
        "\n",
        "Funções"
      ],
      "metadata": {
        "id": "_8g4c0Ex4aib"
      }
    },
    {
      "cell_type": "code",
      "source": [
        "def quadrado(numero):\n",
        "    return numero ** 2\n",
        "\n",
        "def somar(a, b):\n",
        "    return a + b\n",
        "\n",
        "def operacoes_basicas(a, b):\n",
        "    soma = a + b\n",
        "    subtracao = a - b\n",
        "    return soma, subtracao\n",
        "\n",
        "a = 2\n",
        "b = 5\n",
        "\n",
        "c = quadrado(a)\n",
        "d = somar(a, b)\n",
        "e = operacoes_basicas(a, b)\n",
        "\n",
        "print(c)\n",
        "print(d)\n",
        "print(e)\n",
        "\n",
        "e, f = operacoes_basicas(a, b)\n",
        "print(e)\n",
        "print(f)"
      ],
      "metadata": {
        "id": "jcoAV05w370-",
        "colab": {
          "base_uri": "https://localhost:8080/"
        },
        "outputId": "529e2d4f-ec91-4437-fccf-47654cf81a52"
      },
      "execution_count": 109,
      "outputs": [
        {
          "output_type": "stream",
          "name": "stdout",
          "text": [
            "4\n",
            "7\n",
            "(7, -3)\n",
            "7\n",
            "-3\n"
          ]
        }
      ]
    },
    {
      "cell_type": "code",
      "source": [
        "def estimar_potencia_bomba(\n",
        "    raio_secao: float,\n",
        "    velocidade: float,\n",
        "    altura: float,\n",
        "    densidade: float = 1000,\n",
        "    gravidade: float = 9.81,\n",
        "    rendimento: float = 0.7\n",
        ") -> float:\n",
        "    \"\"\"\n",
        "    Estima a potência necessária da bomba (em watts) com base na equação de Bernoulli.\n",
        "\n",
        "    Parâmetros:\n",
        "        area_secao (float): Área da seção transversal do tubo (m²)\n",
        "        velocidade (float): Velocidade média do fluido (m/s)\n",
        "        altura (float): Altura manométrica total (m)\n",
        "        densidade (float): Densidade do fluido (kg/m³)\n",
        "        gravidade (float): Aceleração da gravidade (m/s²)\n",
        "        rendimento (float): Rendimento da bomba (entre 0 e 1)\n",
        "\n",
        "    Retorna:\n",
        "        float: Potência hidráulica estimada da bomba (W)\n",
        "    \"\"\"\n",
        "    area_secao = 3.14 * raio_secao**2\n",
        "    vazao = area_secao * velocidade  # m³/s\n",
        "    potencia = (densidade * gravidade * vazao * altura) / rendimento\n",
        "    return potencia\n",
        "\n",
        "\n",
        "raio = 0.13           # m²\n",
        "velocidade = 2.5        # m/s\n",
        "altura = 15             # m\n",
        "densidade = 998         # kg/m³\n",
        "rendimento = 0.65       # 65%\n",
        "\n",
        "potencia = estimar_potencia_bomba(raio, velocidade, altura, densidade, rendimento=rendimento)\n",
        "print(f\"Potência estimada da bomba: {potencia:.2f} W\")"
      ],
      "metadata": {
        "colab": {
          "base_uri": "https://localhost:8080/"
        },
        "id": "rKxBq1u56fdT",
        "outputId": "bb998dd2-d6d4-47c3-e309-66a2c886e04b"
      },
      "execution_count": 111,
      "outputs": [
        {
          "output_type": "stream",
          "name": "stdout",
          "text": [
            "Potência estimada da bomba: 29973.25 W\n"
          ]
        }
      ]
    },
    {
      "cell_type": "markdown",
      "source": [
        "Funções lambda"
      ],
      "metadata": {
        "id": "G8rASqpSAxMf"
      }
    },
    {
      "cell_type": "code",
      "source": [
        "quadrados = []\n",
        "for x in range(5):\n",
        "    quadrados.append(x**2)\n",
        "\n",
        "quadrados = list(map(lambda x: x**2, range(5)))\n",
        "print(quadrados)"
      ],
      "metadata": {
        "colab": {
          "base_uri": "https://localhost:8080/"
        },
        "id": "h3wPLGgWBkoD",
        "outputId": "f023412e-e715-44f2-a151-4e08a3a4071f"
      },
      "execution_count": 112,
      "outputs": [
        {
          "output_type": "stream",
          "name": "stdout",
          "text": [
            "[0, 1, 4, 9, 16]\n"
          ]
        }
      ]
    },
    {
      "cell_type": "code",
      "source": [
        "bombas = [\n",
        "    {\"modelo\": \"AX-100\", \"potencia\": 450.0, \"vazao\": 0.03, \"fator_correcao\": 1.1},\n",
        "    {\"modelo\": \"BX-200\", \"potencia\": 380.5, \"vazao\": 0.028, \"fator_correcao\": 1.05},\n",
        "    {\"modelo\": \"CX-300\", \"potencia\": 610.2, \"vazao\": 0.04, \"fator_correcao\": 1.2},\n",
        "    {\"modelo\": \"DX-400\", \"potencia\": 495.7, \"vazao\": 0.035, \"fator_correcao\": 1.15}\n",
        "]\n",
        "\n",
        "# Ordenar por eficiência ajustada decrescente\n",
        "bombas_ordenadas = sorted(\n",
        "    bombas,\n",
        "    key=lambda b: b[\"vazao\"] / (b[\"potencia\"] * b[\"fator_correcao\"]),\n",
        "    reverse=True\n",
        ")\n",
        "\n",
        "for bomba in bombas_ordenadas:\n",
        "    eficiencia = bomba[\"vazao\"] / (bomba[\"potencia\"] * bomba[\"fator_correcao\"])\n",
        "    print(f\"{bomba['modelo']}: eficiência ajustada = {eficiencia:.6f}\")"
      ],
      "metadata": {
        "colab": {
          "base_uri": "https://localhost:8080/"
        },
        "id": "aGWPAkTvA04b",
        "outputId": "693b9bf5-07e0-46ca-e28b-9da3ddc75ee6"
      },
      "execution_count": 114,
      "outputs": [
        {
          "output_type": "stream",
          "name": "stdout",
          "text": [
            "BX-200: eficiência ajustada = 0.000070\n",
            "DX-400: eficiência ajustada = 0.000061\n",
            "AX-100: eficiência ajustada = 0.000061\n",
            "CX-300: eficiência ajustada = 0.000055\n"
          ]
        }
      ]
    },
    {
      "cell_type": "markdown",
      "source": [
        "Classes:\n",
        "- Programação orientada objetos;\n",
        "- Variáveis podem ser salvas mais facilmente."
      ],
      "metadata": {
        "id": "2Fxw6MIH9sEt"
      }
    },
    {
      "cell_type": "code",
      "source": [
        "class BombaHidraulica:\n",
        "    def __init__(\n",
        "        self,\n",
        "        raio_secao: float,\n",
        "        velocidade: float,\n",
        "        altura: float,\n",
        "        densidade: float = 1000,\n",
        "        gravidade: float = 9.81,\n",
        "        rendimento: float = 0.7\n",
        "    ):\n",
        "        \"\"\"\n",
        "        Inicializa os parâmetros da bomba.\n",
        "        \"\"\"\n",
        "        self.raio_secao = raio_secao\n",
        "        self.velocidade = velocidade\n",
        "        self.altura = altura\n",
        "        self.densidade = densidade\n",
        "        self.gravidade = gravidade\n",
        "        self.rendimento = rendimento\n",
        "\n",
        "    def calcular_area_secao(self) -> float:\n",
        "        \"\"\"Calcula a área da seção transversal (m²).\"\"\"\n",
        "        return 3.14 * self.raio_secao**2\n",
        "\n",
        "    def calcular_vazao(self) -> float:\n",
        "        \"\"\"Calcula a vazão volumétrica (m³/s).\"\"\"\n",
        "        return self.calcular_area_secao() * self.velocidade\n",
        "\n",
        "    def estimar_potencia(self) -> float:\n",
        "        \"\"\"Estima a potência hidráulica necessária da bomba (W).\"\"\"\n",
        "        self.vazao = self.calcular_vazao()\n",
        "        self.potencia = (self.densidade * self.gravidade * self.vazao * self.altura) / self.rendimento"
      ],
      "metadata": {
        "id": "5_Nen4em9Fbu"
      },
      "execution_count": 115,
      "outputs": []
    },
    {
      "cell_type": "code",
      "source": [
        "# Parâmetros da bomba\n",
        "raio = 0.13            # m\n",
        "velocidade = 2.5       # m/s\n",
        "altura = 15            # m\n",
        "densidade = 998        # kg/m³\n",
        "rendimento = 0.65      # 65%\n",
        "\n",
        "# Criar objeto e calcular potência\n",
        "bomba = BombaHidraulica(raio, velocidade, altura, densidade, rendimento=rendimento)\n",
        "bomba.estimar_potencia()\n",
        "print(f\"Potência estimada da bomba: {bomba.potencia:.2f} W\")"
      ],
      "metadata": {
        "colab": {
          "base_uri": "https://localhost:8080/"
        },
        "id": "dQdSq6dk9vt2",
        "outputId": "2af3ddd8-6787-400c-b30c-c762c65310f1"
      },
      "execution_count": 116,
      "outputs": [
        {
          "output_type": "stream",
          "name": "stdout",
          "text": [
            "Potência estimada da bomba: 29973.25 W\n"
          ]
        }
      ]
    },
    {
      "cell_type": "code",
      "source": [
        "print (f\"Vazão estimada da bomba: {bomba.vazao:.3f} m³/s\")"
      ],
      "metadata": {
        "colab": {
          "base_uri": "https://localhost:8080/"
        },
        "id": "tV2Og3NV93Mh",
        "outputId": "a5a70f68-0795-4399-e404-8f8da8c12ad8"
      },
      "execution_count": 19,
      "outputs": [
        {
          "output_type": "stream",
          "name": "stdout",
          "text": [
            "Vazão estimada da bomba: 0.133 m³/s\n"
          ]
        }
      ]
    },
    {
      "cell_type": "markdown",
      "source": [
        "Class inheritance (herança de classe)"
      ],
      "metadata": {
        "id": "xNLHvBs2AADm"
      }
    },
    {
      "cell_type": "code",
      "source": [
        "class BombaComPerdaCarga(BombaHidraulica):\n",
        "    def __init__(\n",
        "        self,\n",
        "        raio_secao: float,\n",
        "        velocidade: float,\n",
        "        altura: float,\n",
        "        comprimento: float,\n",
        "        fator_atrito: float,\n",
        "        densidade: float = 1000,\n",
        "        gravidade: float = 9.81,\n",
        "        rendimento: float = 0.7\n",
        "    ):\n",
        "        # Inicializa a superclasse\n",
        "        super().__init__(raio_secao, velocidade, altura, densidade, gravidade, rendimento)\n",
        "        self.comprimento = comprimento\n",
        "        self.fator_atrito = fator_atrito\n",
        "\n",
        "    def calcular_perda_carga(self) -> float:\n",
        "        \"\"\"Calcula a perda de carga linear (m).\"\"\"\n",
        "        diametro = 2 * self.raio_secao\n",
        "        return self.fator_atrito * (self.comprimento / diametro) * (self.velocidade**2 / (2 * self.gravidade))\n",
        "\n",
        "    def estimar_potencia_total(self) -> float:\n",
        "        \"\"\"Calcula a potência considerando a altura geométrica + perda de carga.\"\"\"\n",
        "        self.perda_carga = self.calcular_perda_carga()\n",
        "        self.altura_total = self.altura + self.perda_carga\n",
        "        self.vazao = self.calcular_vazao()\n",
        "        self.potencia_corrigida = (self.densidade * self.gravidade * self.vazao * self.altura_total) / self.rendimento"
      ],
      "metadata": {
        "id": "pJ1_DxOh-GaV"
      },
      "execution_count": 118,
      "outputs": []
    },
    {
      "cell_type": "code",
      "source": [
        "# Parâmetros\n",
        "raio = 0.13               # m\n",
        "velocidade = 2.5          # m/s\n",
        "altura_geom = 15          # m\n",
        "comprimento = 50          # m (comprimento da tubulação)\n",
        "fator_atrito = 0.03       # típico para água em PVC\n",
        "densidade = 998           # kg/m³\n",
        "rendimento = 0.65\n",
        "\n",
        "# Criar objeto da classe filha\n",
        "bomba_pc = BombaComPerdaCarga(raio, velocidade, altura_geom, comprimento, fator_atrito, densidade, rendimento=rendimento)\n",
        "\n",
        "bomba_pc.estimar_potencia_total()\n",
        "print(f\"Potência da bomba com perda de carga: {bomba_pc.potencia_corrigida:.2f} W\")\n",
        "print (bomba_pc.altura)\n",
        "print (bomba_pc.perda_carga)"
      ],
      "metadata": {
        "colab": {
          "base_uri": "https://localhost:8080/"
        },
        "id": "ZDMaco68_huQ",
        "outputId": "15f2a8e9-2e48-4ca5-d3b9-62831bb18b38"
      },
      "execution_count": 121,
      "outputs": [
        {
          "output_type": "stream",
          "name": "stdout",
          "text": [
            "Potência da bomba com perda de carga: 33645.58 W\n",
            "15\n",
            "1.8378028699129612\n"
          ]
        }
      ]
    },
    {
      "cell_type": "markdown",
      "source": [
        "Bibliotecas:\n",
        "- São coleções de funções, classes e módulos que ajudam a resolver tarefas específicas."
      ],
      "metadata": {
        "id": "iVLHS62MVuJo"
      }
    },
    {
      "cell_type": "markdown",
      "source": [
        "Importar bibliotecas"
      ],
      "metadata": {
        "id": "YqTg3Fg7WY8t"
      }
    },
    {
      "cell_type": "code",
      "source": [
        "pip install numpy"
      ],
      "metadata": {
        "colab": {
          "base_uri": "https://localhost:8080/"
        },
        "id": "9FvsnWNaWYmP",
        "outputId": "497f945f-4850-4e9a-8f49-a64b79ae1813"
      },
      "execution_count": 122,
      "outputs": [
        {
          "output_type": "stream",
          "name": "stdout",
          "text": [
            "Requirement already satisfied: numpy in /usr/local/lib/python3.11/dist-packages (2.0.2)\n"
          ]
        }
      ]
    },
    {
      "cell_type": "code",
      "source": [
        "pip install pandas"
      ],
      "metadata": {
        "colab": {
          "base_uri": "https://localhost:8080/"
        },
        "id": "Jp0jyOAzWqrl",
        "outputId": "5cab067d-066e-4a8e-d662-e425632ff443"
      },
      "execution_count": 123,
      "outputs": [
        {
          "output_type": "stream",
          "name": "stdout",
          "text": [
            "Requirement already satisfied: pandas in /usr/local/lib/python3.11/dist-packages (2.2.2)\n",
            "Requirement already satisfied: numpy>=1.23.2 in /usr/local/lib/python3.11/dist-packages (from pandas) (2.0.2)\n",
            "Requirement already satisfied: python-dateutil>=2.8.2 in /usr/local/lib/python3.11/dist-packages (from pandas) (2.9.0.post0)\n",
            "Requirement already satisfied: pytz>=2020.1 in /usr/local/lib/python3.11/dist-packages (from pandas) (2025.2)\n",
            "Requirement already satisfied: tzdata>=2022.7 in /usr/local/lib/python3.11/dist-packages (from pandas) (2025.2)\n",
            "Requirement already satisfied: six>=1.5 in /usr/local/lib/python3.11/dist-packages (from python-dateutil>=2.8.2->pandas) (1.17.0)\n"
          ]
        }
      ]
    },
    {
      "cell_type": "markdown",
      "source": [
        "Numpy (numeric Python)"
      ],
      "metadata": {
        "id": "sYq-1THXWU1L"
      }
    },
    {
      "cell_type": "code",
      "source": [
        "import numpy as np"
      ],
      "metadata": {
        "id": "fIGZ8L1oWqPQ"
      },
      "execution_count": 125,
      "outputs": []
    },
    {
      "cell_type": "markdown",
      "source": [
        "Criar arrays"
      ],
      "metadata": {
        "id": "splVv463YIw9"
      }
    },
    {
      "cell_type": "code",
      "source": [
        "a = np.array([1, 2, 3])                  # 1D array\n",
        "b = np.array([[1, 2], [3, 4]])           # 2D array\n",
        "\n",
        "print (a)\n",
        "\n",
        "print(b)\n",
        "\n",
        "#Criar matrizes com valores pre-definidos/aleatórios:\n",
        "zeros = np.zeros((2, 3))                 # 2x3 matrix of zeros\n",
        "ones = np.ones((2, 2))                   # 2x2 matrix of ones\n",
        "full = np.full((2, 2), 7)                # filled with 7\n",
        "identity = np.eye(3)                     # 3x3 identity matrix\n",
        "rand = np.random.random((2, 3))          # random values\n",
        "arange = np.arange(0, 10, 2)             # [0 2 4 6 8]\n",
        "lin = np.linspace(0, 1, 5)               # 5 points from 0 to 1\n",
        "\n",
        "print(lin)"
      ],
      "metadata": {
        "colab": {
          "base_uri": "https://localhost:8080/"
        },
        "id": "N47yVLs2Vtpk",
        "outputId": "7b2b6e95-04db-439d-d206-cd92d8e95f50"
      },
      "execution_count": 132,
      "outputs": [
        {
          "output_type": "stream",
          "name": "stdout",
          "text": [
            "[1 2 3]\n",
            "[[1 2]\n",
            " [3 4]]\n",
            "[0.   0.25 0.5  0.75 1.  ]\n"
          ]
        }
      ]
    },
    {
      "cell_type": "markdown",
      "source": [
        "Contas básicas com arrays"
      ],
      "metadata": {
        "id": "EzSzWRtjYLXW"
      }
    },
    {
      "cell_type": "code",
      "source": [
        "c = b+ones\n",
        "print (b)\n",
        "print (ones)\n",
        "print(c)"
      ],
      "metadata": {
        "colab": {
          "base_uri": "https://localhost:8080/"
        },
        "id": "-XA9ccJj_m5s",
        "outputId": "55920a5a-d87a-4249-fa18-2ab344323046"
      },
      "execution_count": 133,
      "outputs": [
        {
          "output_type": "stream",
          "name": "stdout",
          "text": [
            "[[1 2]\n",
            " [3 4]]\n",
            "[[1. 1.]\n",
            " [1. 1.]]\n",
            "[[2. 3.]\n",
            " [4. 5.]]\n"
          ]
        }
      ]
    },
    {
      "cell_type": "code",
      "source": [
        "d = b * zeros"
      ],
      "metadata": {
        "colab": {
          "base_uri": "https://localhost:8080/",
          "height": 141
        },
        "id": "W3nJ8vRuXNFW",
        "outputId": "7b85d0ef-da85-4cc6-96c2-03395de7901a"
      },
      "execution_count": 19,
      "outputs": [
        {
          "output_type": "error",
          "ename": "ValueError",
          "evalue": "operands could not be broadcast together with shapes (2,2) (2,3) ",
          "traceback": [
            "\u001b[0;31m---------------------------------------------------------------------------\u001b[0m",
            "\u001b[0;31mValueError\u001b[0m                                Traceback (most recent call last)",
            "\u001b[0;32m/tmp/ipython-input-3215535650.py\u001b[0m in \u001b[0;36m<cell line: 0>\u001b[0;34m()\u001b[0m\n\u001b[0;32m----> 1\u001b[0;31m \u001b[0md\u001b[0m \u001b[0;34m=\u001b[0m \u001b[0mb\u001b[0m \u001b[0;34m*\u001b[0m \u001b[0mzeros\u001b[0m\u001b[0;34m\u001b[0m\u001b[0;34m\u001b[0m\u001b[0m\n\u001b[0m",
            "\u001b[0;31mValueError\u001b[0m: operands could not be broadcast together with shapes (2,2) (2,3) "
          ]
        }
      ]
    },
    {
      "cell_type": "code",
      "source": [
        "print (b.shape, zeros.shape)"
      ],
      "metadata": {
        "colab": {
          "base_uri": "https://localhost:8080/"
        },
        "id": "9rPRwJKFXdTq",
        "outputId": "fe1dfeab-342b-40ef-8a72-891714413b89"
      },
      "execution_count": 20,
      "outputs": [
        {
          "output_type": "stream",
          "name": "stdout",
          "text": [
            "(2, 2) (2, 3)\n"
          ]
        }
      ]
    },
    {
      "cell_type": "markdown",
      "source": [
        "Cópia rasa vs profunda:\n",
        "- Atenção na hora de copiar arrays completos para evitar erros em otimizações (ex. PSO)"
      ],
      "metadata": {
        "id": "AQoWVEM7YsAJ"
      }
    },
    {
      "cell_type": "code",
      "source": [
        "a = np.array([1, 2, 3])\n",
        "\n",
        "b = a          # ⚠️ Shallow copy (shared memory) -> more efficient if deep copy is not needed\n",
        "b[0] = 99\n",
        "a[2] = 10\n",
        "print(a)       # Output: [99  2  10]\n",
        "\n",
        "a = np.array([1, 2, 3])\n",
        "c = a.copy()   # ✅ Deep copy\n",
        "c[0] = 99\n",
        "a[2] = 10\n",
        "print(a)\n",
        "print (c)"
      ],
      "metadata": {
        "colab": {
          "base_uri": "https://localhost:8080/"
        },
        "id": "kbTJFiQ7XraM",
        "outputId": "63cc76c0-405f-4021-9127-240df1c12953"
      },
      "execution_count": 24,
      "outputs": [
        {
          "output_type": "stream",
          "name": "stdout",
          "text": [
            "[99  2 10]\n",
            "[ 1  2 10]\n",
            "[99  2  3]\n"
          ]
        }
      ]
    },
    {
      "cell_type": "markdown",
      "source": [
        "Slicing and partitioning arrays"
      ],
      "metadata": {
        "id": "jjz7pMuqZaol"
      }
    },
    {
      "cell_type": "code",
      "source": [
        "arr = np.array([10, 20, 30, 40, 50])\n",
        "\n",
        "print(arr[1:4])      # [20 30 40]\n",
        "print(arr[::-1])     # [50 40 30 20 10] (reverse)\n",
        "print(arr[:3])       # [10 20 30]\n",
        "\n",
        "mat = np.array([[1, 2, 3], [4, 5, 6]])\n",
        "\n",
        "print(mat[:, 1])     # [2 5] (2nd column)\n",
        "print(mat[0, :])     # [1 2 3] (1st row)"
      ],
      "metadata": {
        "colab": {
          "base_uri": "https://localhost:8080/"
        },
        "id": "fdTypMYaZC87",
        "outputId": "1902cd51-bc6f-475f-d76a-ab9560456913"
      },
      "execution_count": 141,
      "outputs": [
        {
          "output_type": "stream",
          "name": "stdout",
          "text": [
            "[20 30 40]\n",
            "[50 40 30 20 10]\n",
            "[10 20 30]\n",
            "3\n",
            "[2 5]\n",
            "[1 2 3]\n"
          ]
        }
      ]
    },
    {
      "cell_type": "markdown",
      "source": [
        "Copiar apenas uma parte do array: deep copy"
      ],
      "metadata": {
        "id": "HFDmMi85aKsp"
      }
    },
    {
      "cell_type": "code",
      "source": [
        "arange = np.arange(0, 9, 1)\n",
        "print(arange, arange.shape)\n",
        "\n",
        "arange = arange.reshape(1,3,3)\n",
        "print(arange, arange.shape)\n",
        "\n",
        "# Usar : mantém o formato do array\n",
        "new_arange = arange[:, [0, 2], :]\n",
        "print(new_arange, new_arange.shape) # new_arange continua sendo 3D\n",
        "\n",
        "new_arange2 = arange[0, [0, 2], :]\n",
        "print(new_arange2, new_arange2.shape) # já new_arange2 vira um array 2D"
      ],
      "metadata": {
        "colab": {
          "base_uri": "https://localhost:8080/"
        },
        "id": "Lsq4t9o9Zgm9",
        "outputId": "8d2cb7af-a70c-40db-d9ce-45899b01b8b2"
      },
      "execution_count": 37,
      "outputs": [
        {
          "output_type": "stream",
          "name": "stdout",
          "text": [
            "[0 1 2 3 4 5 6 7 8] (9,)\n",
            "[[[0 1 2]\n",
            "  [3 4 5]\n",
            "  [6 7 8]]] (1, 3, 3)\n",
            "[[[0 1 2]\n",
            "  [6 7 8]]] (1, 2, 3)\n",
            "[[0 1 2]\n",
            " [6 7 8]] (2, 3)\n"
          ]
        }
      ]
    },
    {
      "cell_type": "code",
      "source": [
        "new_arange[0, 0, 0] = 99\n",
        "print(new_arange, new_arange.shape)\n",
        "print(arange, arange.shape)"
      ],
      "metadata": {
        "colab": {
          "base_uri": "https://localhost:8080/"
        },
        "id": "vZ_Rr5V2ZrMt",
        "outputId": "6cf789fd-a7dc-411b-9484-40a8c68eb42f"
      },
      "execution_count": 38,
      "outputs": [
        {
          "output_type": "stream",
          "name": "stdout",
          "text": [
            "[[[99  1  2]\n",
            "  [ 6  7  8]]] (1, 2, 3)\n",
            "[[[0 1 2]\n",
            "  [3 4 5]\n",
            "  [6 7 8]]] (1, 3, 3)\n"
          ]
        }
      ]
    },
    {
      "cell_type": "markdown",
      "source": [
        "Contas com numpy não exigem loops for ou funções como map:"
      ],
      "metadata": {
        "id": "7tr4up77a-wv"
      }
    },
    {
      "cell_type": "code",
      "source": [
        "a = np.array([1, 2, 3])\n",
        "b = np.array([10, 20, 30])\n",
        "\n",
        "print(a + b)\n",
        "print(a * b)\n",
        "print(np.sqrt(a))"
      ],
      "metadata": {
        "colab": {
          "base_uri": "https://localhost:8080/"
        },
        "id": "_SjEjaRQaWu6",
        "outputId": "abac0cbd-3313-418c-ca66-f1381737ac60"
      },
      "execution_count": 42,
      "outputs": [
        {
          "output_type": "stream",
          "name": "stdout",
          "text": [
            "[11 22 33]\n",
            "[10 40 90]\n",
            "[1.         1.41421356 1.73205081]\n"
          ]
        }
      ]
    },
    {
      "cell_type": "markdown",
      "source": [
        "Também podemos fazer contas apenas com partes de arrays"
      ],
      "metadata": {
        "id": "nf-S0zVVbHew"
      }
    },
    {
      "cell_type": "code",
      "source": [
        "a = np.array([[1, 2, 3],[4, 5, 6]])\n",
        "b = np.array([10, 20, 30])\n",
        "\n",
        "for i in range(a.shape[0]):\n",
        "  print(a[i])\n",
        "  print(a[i,:] + b)\n",
        "  print(a[i,:] * b)\n",
        "  print(np.sqrt(a[i,:]))\n",
        "  print('\\n')"
      ],
      "metadata": {
        "colab": {
          "base_uri": "https://localhost:8080/"
        },
        "id": "WU1DrKPebHEG",
        "outputId": "37466489-e21e-4a01-8b55-dd9ce7ca5851"
      },
      "execution_count": 144,
      "outputs": [
        {
          "output_type": "stream",
          "name": "stdout",
          "text": [
            "3\n",
            "[1 2 3]\n",
            "[11 22 33]\n",
            "[10 40 90]\n",
            "[1.         1.41421356 1.73205081]\n",
            "\n",
            "\n",
            "[4 5 6]\n",
            "[14 25 36]\n",
            "[ 40 100 180]\n",
            "[2.         2.23606798 2.44948974]\n",
            "\n",
            "\n"
          ]
        }
      ]
    },
    {
      "cell_type": "markdown",
      "source": [
        "Broadcasting"
      ],
      "metadata": {
        "id": "ZaYl4R9xbsIV"
      }
    },
    {
      "cell_type": "code",
      "source": [
        "a = np.array([1, 2, 3])\n",
        "b = 10\n",
        "\n",
        "print(a + b)   # [11 12 13]\n",
        "\n",
        "mat = np.array([[1, 2, 3], [4, 5, 6]])\n",
        "row = np.array([1, 0, 1])\n",
        "\n",
        "print(mat + row)\n",
        "print(mat.shape)\n",
        "print(row.shape)"
      ],
      "metadata": {
        "colab": {
          "base_uri": "https://localhost:8080/"
        },
        "id": "eWRqKskmbDiI",
        "outputId": "e18f6d41-4915-4bbb-b097-45d9f40f5e72"
      },
      "execution_count": 46,
      "outputs": [
        {
          "output_type": "stream",
          "name": "stdout",
          "text": [
            "[11 12 13]\n",
            "[[2 2 4]\n",
            " [5 5 7]]\n",
            "(2, 3)\n",
            "(3,)\n"
          ]
        }
      ]
    },
    {
      "cell_type": "code",
      "source": [
        "# Create a 3D array: shape (2, 3, 4)\n",
        "arr3d = np.arange(2 * 3 * 4).reshape(2, 3, 4)\n",
        "\n",
        "# Broadcast over the 2nd dimension (axis=1) using a (3, 1) array\n",
        "weights = np.array([1, 10, 100]).reshape(1, 3, 1)\n",
        "\n",
        "# Broadcasting: multiply each 'row' (axis=1) by its corresponding weight\n",
        "result = arr3d * weights\n",
        "\n",
        "print(\"Original array shape:\", arr3d.shape)\n",
        "print(\"Weights shape:\", weights.shape)\n",
        "print(\"Result shape:\", result.shape)\n",
        "print(result)"
      ],
      "metadata": {
        "colab": {
          "base_uri": "https://localhost:8080/"
        },
        "id": "Ts02zQXddUk2",
        "outputId": "2535e6f9-8fa1-4ec6-a8f3-d72d5c917c9e"
      },
      "execution_count": 148,
      "outputs": [
        {
          "output_type": "stream",
          "name": "stdout",
          "text": [
            "Original array shape: (2, 3, 4)\n",
            "Weights shape: (1, 3, 1)\n",
            "Result shape: (2, 3, 4)\n",
            "[[[   0    1    2    3]\n",
            "  [  40   50   60   70]\n",
            "  [ 800  900 1000 1100]]\n",
            "\n",
            " [[  12   13   14   15]\n",
            "  [ 160  170  180  190]\n",
            "  [2000 2100 2200 2300]]]\n"
          ]
        }
      ]
    },
    {
      "cell_type": "markdown",
      "source": [
        "Condicionais no numpy:"
      ],
      "metadata": {
        "id": "sxWLmnlnb-Rj"
      }
    },
    {
      "cell_type": "code",
      "source": [
        "a = np.array([1, 2, 3, 4])\n",
        "b = np.array([10, 20, 30, 40])\n",
        "\n",
        "c = np.where(a>=3, b*a, b) #Muito útil para funções condicionais (por exemplo, fator de fricção para escoamento laminar (Re<2300) ou turbulento (Re>2300))\n",
        "print (c)"
      ],
      "metadata": {
        "colab": {
          "base_uri": "https://localhost:8080/"
        },
        "id": "EN6zjX3gbuGm",
        "outputId": "4703505d-afa6-45ab-ac92-3828d78ed5e2"
      },
      "execution_count": 52,
      "outputs": [
        {
          "output_type": "stream",
          "name": "stdout",
          "text": [
            "[ 10  20  90 160]\n"
          ]
        }
      ]
    },
    {
      "cell_type": "code",
      "source": [
        "import numpy as np\n",
        "import matplotlib.pyplot as plt\n",
        "\n",
        "class BombaHidraulica:\n",
        "    def __init__(\n",
        "        self,\n",
        "        raio_secao: float,\n",
        "        velocidade: float,\n",
        "        altura: float,\n",
        "        densidade: float = 1000,\n",
        "        gravidade: float = 9.81,\n",
        "    ):\n",
        "        self.raio_secao = raio_secao\n",
        "        self.velocidade = velocidade\n",
        "        self.altura = altura\n",
        "        self.densidade = densidade\n",
        "        self.gravidade = gravidade\n",
        "\n",
        "        self.area = np.pi * self.raio_secao**2\n",
        "        self.vazao = self.area * self.velocidade\n",
        "\n",
        "    def estimar_potencia_por_rendimento(self, rendimentos: np.ndarray) -> np.ndarray:\n",
        "        \"\"\"Calcula a potência para vários rendimentos.\"\"\"\n",
        "        return (self.densidade * self.gravidade * self.vazao * self.altura) / rendimentos\n",
        "\n",
        "\n",
        "# Parâmetros fixos\n",
        "raio = 0.13\n",
        "velocidade = 2.5\n",
        "altura = 15\n",
        "densidade = 998\n",
        "\n",
        "# Criar objeto\n",
        "bomba = BombaHidraulica(raio, velocidade, altura, densidade)\n",
        "\n",
        "# Intervalo de rendimentos (de 0.5 a 0.8)\n",
        "rendimentos = np.linspace(0.5, 0.8, 50)\n",
        "print (rendimentos)\n",
        "print(rendimentos.shape)\n",
        "\n",
        "# Cálculo da potência para cada rendimento\n",
        "potencias = bomba.estimar_potencia_por_rendimento(rendimentos)\n",
        "\n",
        "# Plotar o gráfico\n",
        "plt.figure(figsize=(8, 5))\n",
        "plt.plot(rendimentos, potencias, marker='o')\n",
        "plt.title(\"Potência da Bomba x Rendimento\")\n",
        "plt.xlabel(\"Rendimento\")\n",
        "plt.ylabel(\"Potência (W)\")\n",
        "plt.grid(True)\n",
        "plt.tight_layout()\n",
        "plt.show()"
      ],
      "metadata": {
        "colab": {
          "base_uri": "https://localhost:8080/",
          "height": 681
        },
        "id": "X84137fCcJol",
        "outputId": "9476d8f8-4fcf-45c3-c6f9-2f33a36b6448"
      },
      "execution_count": 149,
      "outputs": [
        {
          "output_type": "stream",
          "name": "stdout",
          "text": [
            "[0.5        0.50612245 0.5122449  0.51836735 0.5244898  0.53061224\n",
            " 0.53673469 0.54285714 0.54897959 0.55510204 0.56122449 0.56734694\n",
            " 0.57346939 0.57959184 0.58571429 0.59183673 0.59795918 0.60408163\n",
            " 0.61020408 0.61632653 0.62244898 0.62857143 0.63469388 0.64081633\n",
            " 0.64693878 0.65306122 0.65918367 0.66530612 0.67142857 0.67755102\n",
            " 0.68367347 0.68979592 0.69591837 0.70204082 0.70816327 0.71428571\n",
            " 0.72040816 0.72653061 0.73265306 0.73877551 0.74489796 0.75102041\n",
            " 0.75714286 0.76326531 0.76938776 0.7755102  0.78163265 0.7877551\n",
            " 0.79387755 0.8       ]\n",
            "(50,)\n"
          ]
        },
        {
          "output_type": "display_data",
          "data": {
            "text/plain": [
              "<Figure size 800x500 with 1 Axes>"
            ],
            "image/png": "[encoded data removed]"
          },
          "metadata": {}
        }
      ]
    },
    {
      "cell_type": "code",
      "source": [],
      "metadata": {
        "id": "sqh1sfvXeI1_"
      },
      "execution_count": null,
      "outputs": []
    }
  ]
}